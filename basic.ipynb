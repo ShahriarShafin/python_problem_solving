{
  "nbformat": 4,
  "nbformat_minor": 0,
  "metadata": {
    "colab": {
      "name": "basic.ipynb",
      "provenance": [],
      "authorship_tag": "ABX9TyNob5ToIRzMzB6bSwpJfQmO",
      "include_colab_link": true
    },
    "kernelspec": {
      "name": "python3",
      "display_name": "Python 3"
    }
  },
  "cells": [
    {
      "cell_type": "markdown",
      "metadata": {
        "id": "view-in-github",
        "colab_type": "text"
      },
      "source": [
        "<a href=\"https://colab.research.google.com/github/ShahriarShafin/python_problem_solving/blob/1.0.sh/basic.ipynb\" target=\"_parent\"><img src=\"https://colab.research.google.com/assets/colab-badge.svg\" alt=\"Open In Colab\"/></a>"
      ]
    },
    {
      "cell_type": "code",
      "metadata": {
        "colab": {
          "base_uri": "https://localhost:8080/"
        },
        "id": "90Fbl7bjgTYA",
        "outputId": "7ac4a96c-c544-4717-a69f-c42fea655005"
      },
      "source": [
        "# print\r\n",
        "print('Shafin')"
      ],
      "execution_count": null,
      "outputs": [
        {
          "output_type": "stream",
          "text": [
            "Shafin\n"
          ],
          "name": "stdout"
        }
      ]
    },
    {
      "cell_type": "code",
      "metadata": {
        "colab": {
          "base_uri": "https://localhost:8080/"
        },
        "id": "6pSauhPDhAnY",
        "outputId": "8e51c854-81c7-4cc0-8105-0f3fce3fb759"
      },
      "source": [
        "'''\r\n",
        "indentation\r\n",
        "should be maintained\r\n",
        "'''\r\n",
        "# indentation\r\n",
        "if 2 > 8:\r\n",
        "  print(\"ok\")\r\n",
        "else:\r\n",
        "  print(\"not\") \r\n",
        "print(\"hi\") # outer  "
      ],
      "execution_count": null,
      "outputs": [
        {
          "output_type": "stream",
          "text": [
            "not\n",
            "hi\n"
          ],
          "name": "stdout"
        }
      ]
    },
    {
      "cell_type": "code",
      "metadata": {
        "colab": {
          "base_uri": "https://localhost:8080/"
        },
        "id": "K5wvBkzZjLDr",
        "outputId": "638f7398-2ea3-49ee-fdf3-8ee716a4f736"
      },
      "source": [
        "# variables\r\n",
        "x=\"Shafin\"\r\n",
        "y=18201070\r\n",
        "z=5.77\r\n",
        "print(x,y,z)\r\n",
        "print('............')\r\n",
        "\r\n",
        "# one line\r\n",
        "x, y, z = 1, 2, 'Shafin'\r\n",
        "print(x)\r\n",
        "print(y)\r\n",
        "print(z)\r\n",
        "print('............')\r\n",
        "# same value to multiple variables\r\n",
        "x = y = z = \"Orange\"\r\n",
        "print(x)\r\n",
        "print(y)\r\n",
        "print(z)\r\n"
      ],
      "execution_count": null,
      "outputs": [
        {
          "output_type": "stream",
          "text": [
            "Shafin 18201070 5.77\n",
            "............\n",
            "1\n",
            "2\n",
            "Shafin\n",
            "............\n",
            "Orange\n",
            "Orange\n",
            "Orange\n"
          ],
          "name": "stdout"
        }
      ]
    },
    {
      "cell_type": "code",
      "metadata": {
        "colab": {
          "base_uri": "https://localhost:8080/"
        },
        "id": "Zch0Hb3-ihYC",
        "outputId": "afcaa1b9-b5ac-4904-e431-e83ac79e25ff"
      },
      "source": [
        "# data casting\r\n",
        "x = str(5)\r\n",
        "y = int('5')\r\n",
        "z = float(5)\r\n",
        "\r\n",
        "print(x)\r\n",
        "print(y)\r\n",
        "print(z)"
      ],
      "execution_count": null,
      "outputs": [
        {
          "output_type": "stream",
          "text": [
            "5\n",
            "5\n",
            "5.0\n"
          ],
          "name": "stdout"
        }
      ]
    },
    {
      "cell_type": "code",
      "metadata": {
        "id": "D8kVS0jCmBhY",
        "colab": {
          "base_uri": "https://localhost:8080/"
        },
        "outputId": "cd57cc3a-3b58-4618-86c8-e59dfb626a08"
      },
      "source": [
        "# getting the data type\r\n",
        "x=\"Shahriar\"\r\n",
        "x1='Shafin'\r\n",
        "y=18201070\r\n",
        "z=5.77\r\n",
        "z1 = 1j\r\n",
        "\r\n",
        "print(type(x))\r\n",
        "print(type(x1))\r\n",
        "print(type(y))\r\n",
        "print(type(z))\r\n",
        "print(type(z1))"
      ],
      "execution_count": null,
      "outputs": [
        {
          "output_type": "stream",
          "text": [
            "<class 'str'>\n",
            "<class 'str'>\n",
            "<class 'int'>\n",
            "<class 'float'>\n",
            "<class 'complex'>\n"
          ],
          "name": "stdout"
        }
      ]
    },
    {
      "cell_type": "code",
      "metadata": {
        "colab": {
          "base_uri": "https://localhost:8080/"
        },
        "id": "EaKvHmRLqTXe",
        "outputId": "922b6035-ba76-4c1a-c90a-4619172b0e6f"
      },
      "source": [
        "# list unpacking\r\n",
        "fruits = [\"apple\", \"banana\", \"cherry\"]\r\n",
        "x, y, z = fruits\r\n",
        "print(x)\r\n",
        "print(y)\r\n",
        "print(z)"
      ],
      "execution_count": null,
      "outputs": [
        {
          "output_type": "stream",
          "text": [
            "apple\n",
            "banana\n",
            "cherry\n"
          ],
          "name": "stdout"
        }
      ]
    },
    {
      "cell_type": "code",
      "metadata": {
        "colab": {
          "base_uri": "https://localhost:8080/"
        },
        "id": "7vwvJ-yJsrx_",
        "outputId": "7b4466d7-2d38-48c1-996e-928a2a69fa54"
      },
      "source": [
        "# local and global veriables\r\n",
        "x = \"awesome\"\r\n",
        "def myfunc():\r\n",
        "  x = \"fantastic\"\r\n",
        "  print(\"Python is \" + x)\r\n",
        "\r\n",
        "myfunc()\r\n",
        "\r\n",
        "print(\"Python is \" + x)"
      ],
      "execution_count": null,
      "outputs": [
        {
          "output_type": "stream",
          "text": [
            "Python is fantastic\n",
            "Python is awesome\n"
          ],
          "name": "stdout"
        }
      ]
    },
    {
      "cell_type": "code",
      "metadata": {
        "colab": {
          "base_uri": "https://localhost:8080/"
        },
        "id": "PGzVdfH-tfJN",
        "outputId": "556d9541-9201-4c49-e31a-c2a1f13c0381"
      },
      "source": [
        "# local to global \r\n",
        "def fun():\r\n",
        " global x\r\n",
        " x=6\r\n",
        "fun()\r\n",
        "print(x)"
      ],
      "execution_count": null,
      "outputs": [
        {
          "output_type": "stream",
          "text": [
            "6\n"
          ],
          "name": "stdout"
        }
      ]
    },
    {
      "cell_type": "code",
      "metadata": {
        "id": "Eic8PV570rph"
      },
      "source": [
        "x = 3e4\r\n",
        "y = 12E4\r\n",
        "z = 4E4\r\n",
        "print(x)\r\n",
        "print(z)\r\n",
        "print(y)"
      ],
      "execution_count": null,
      "outputs": []
    },
    {
      "cell_type": "markdown",
      "metadata": {
        "id": "zSfH7i9U9vDU"
      },
      "source": [
        "***String***"
      ]
    },
    {
      "cell_type": "code",
      "metadata": {
        "colab": {
          "base_uri": "https://localhost:8080/"
        },
        "id": "re_7w2r_5h5g",
        "outputId": "f1be32fa-4ef7-4628-93e9-984a09530788"
      },
      "source": [
        "for x in \"shafin\":\r\n",
        "  print(x) \r\n"
      ],
      "execution_count": 110,
      "outputs": [
        {
          "output_type": "stream",
          "text": [
            "s\n",
            "h\n",
            "a\n",
            "f\n",
            "i\n",
            "n\n"
          ],
          "name": "stdout"
        }
      ]
    },
    {
      "cell_type": "code",
      "metadata": {
        "colab": {
          "base_uri": "https://localhost:8080/"
        },
        "id": "zobkBaKx-HHb",
        "outputId": "cdbf683b-1fbf-40c0-d006-b69c847aa29e"
      },
      "source": [
        "a = 'int333'\r\n",
        "print(len(a))"
      ],
      "execution_count": 113,
      "outputs": [
        {
          "output_type": "stream",
          "text": [
            "6\n"
          ],
          "name": "stdout"
        }
      ]
    }
  ]
}