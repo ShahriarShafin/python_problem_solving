{
  "nbformat": 4,
  "nbformat_minor": 0,
  "metadata": {
    "colab": {
      "name": "12jan2020.ipynb",
      "provenance": [],
      "authorship_tag": "ABX9TyMnEbKZZwfPQmBXjbCY4ip0",
      "include_colab_link": true
    },
    "kernelspec": {
      "name": "python3",
      "display_name": "Python 3"
    }
  },
  "cells": [
    {
      "cell_type": "markdown",
      "metadata": {
        "id": "view-in-github",
        "colab_type": "text"
      },
      "source": [
        "<a href=\"https://colab.research.google.com/github/ShahriarShafin/colab_notebooks/blob/main/12jan2020.ipynb\" target=\"_parent\"><img src=\"https://colab.research.google.com/assets/colab-badge.svg\" alt=\"Open In Colab\"/></a>"
      ]
    },
    {
      "cell_type": "code",
      "metadata": {
        "colab": {
          "base_uri": "https://localhost:8080/"
        },
        "id": "Gg-2PrKtEPAK",
        "outputId": "b540141e-9326-435b-ff16-9fc0216234b1"
      },
      "source": [
        "#dictionary separate line\r\n",
        "\r\n",
        "dict1 = {}\r\n",
        "dict1[1] = \"one\"\r\n",
        "dict1[2] = \"two\"\r\n",
        "dict1[3] = \"three\"\r\n",
        "dict1[4] = \"four\"\r\n",
        "print(dict1[1])"
      ],
      "execution_count": 8,
      "outputs": [
        {
          "output_type": "stream",
          "text": [
            "one\n"
          ],
          "name": "stdout"
        }
      ]
    },
    {
      "cell_type": "code",
      "metadata": {
        "colab": {
          "base_uri": "https://localhost:8080/"
        },
        "id": "1D1H03iMF2Iw",
        "outputId": "ff75dde1-b33d-4ccd-b3e8-67c58f0b4786"
      },
      "source": [
        "#dictionary one line\r\n",
        "\r\n",
        "dict1 = {\"o\":\"one\",\"t\":\"two\"}\r\n",
        "print(dict1.values())\r\n",
        "print(dict1.keys())\r\n",
        "print(dict1.keys())\r\n"
      ],
      "execution_count": 9,
      "outputs": [
        {
          "output_type": "stream",
          "text": [
            "dict_values(['one', 'two'])\n",
            "dict_keys(['o', 't'])\n"
          ],
          "name": "stdout"
        }
      ]
    },
    {
      "cell_type": "code",
      "metadata": {
        "colab": {
          "base_uri": "https://localhost:8080/"
        },
        "id": "KN1d0iDZINPW",
        "outputId": "826fcf73-1b86-468a-8aca-589e1df36ed4"
      },
      "source": [
        "# type conversion\r\n",
        "\r\n",
        "x = \"100\"\r\n",
        "\r\n",
        "a = int(x,2)  #binary\r\n",
        "b = int(x,10) #des\r\n",
        "c = int(x,8)  #oct\r\n",
        "d = int(x,16) #hex\r\n",
        "\r\n",
        "print(a,b,c,d)"
      ],
      "execution_count": 14,
      "outputs": [
        {
          "output_type": "stream",
          "text": [
            "4 100 64 256\n"
          ],
          "name": "stdout"
        }
      ]
    },
    {
      "cell_type": "code",
      "metadata": {
        "id": "1Q5JMm_GJrXF"
      },
      "source": [
        "#arithmetic operators\r\n",
        "\r\n",
        "a = 9 +2\r\n",
        "b = 9 - 2\r\n",
        "c = 9 * 2\r\n",
        "d = 9 / 2 \r\n",
        "e = 9 % 2\r\n",
        "f = 9 ** 2  # 9^2\r\n",
        "g = 9 // 2\r\n",
        "\r\n",
        "print(a,b,c,d,e,f,g)\r\n",
        "print(type(d))\r\n",
        "print(type(g))"
      ],
      "execution_count": null,
      "outputs": []
    }
  ]
}