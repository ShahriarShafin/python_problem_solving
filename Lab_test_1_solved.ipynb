{
  "nbformat": 4,
  "nbformat_minor": 0,
  "metadata": {
    "colab": {
      "name": "Lab_test_1_solved.ipynb",
      "provenance": [],
      "collapsed_sections": [],
      "include_colab_link": true
    },
    "kernelspec": {
      "name": "python3",
      "display_name": "Python 3"
    }
  },
  "cells": [
    {
      "cell_type": "markdown",
      "metadata": {
        "id": "view-in-github",
        "colab_type": "text"
      },
      "source": [
        "<a href=\"https://colab.research.google.com/github/ShahriarShafin/python_problem_solving/blob/1.0.sh/Lab_test_1_solved.ipynb\" target=\"_parent\"><img src=\"https://colab.research.google.com/assets/colab-badge.svg\" alt=\"Open In Colab\"/></a>"
      ]
    },
    {
      "cell_type": "markdown",
      "metadata": {
        "id": "69lrTfqXFsSj"
      },
      "source": [
        "<h2>CSE 310 – Lab test 1</h2>\r\n",
        "\r\n",
        "1.Suppose you are given a dictionary containing the months and the\r\n",
        "number of days in each month.<br>\r\n",
        "\r\n",
        "dict_months = {“January”:31, “February”:28, “March”:31,\r\n",
        "“April”:30, “May”:31, “June”:30, “July”:31,\r\n",
        "“August”:31, “September”:30, “October”:31,\r\n",
        "“November”:30, “December”:31}<br>\r\n",
        "\r\n",
        "Now take an input from user giving a message to enter a month’s\r\n",
        "name and print if the month contains “31 days”, “30 days” or “28\r\n",
        "days” or “Not a valid month name”."
      ]
    },
    {
      "cell_type": "code",
      "metadata": {
        "colab": {
          "base_uri": "https://localhost:8080/"
        },
        "id": "Of8JkI4L3_Mk",
        "outputId": "2eb7f097-1bf4-42de-80f5-820bc7b4b0ca"
      },
      "source": [
        "dict_months = {'January':31, 'February':28, 'March':31,'April':30,'May':31,\r\n",
        "               'June':30, 'July':31,'August':31, 'September':30,\r\n",
        "               'October':31,'November':30, 'December':31}\r\n",
        "\r\n",
        "month_name = input(\"Enter a month’s name:\\n\")\r\n",
        "\r\n",
        "if month_name in dict_months:\r\n",
        "    print(dict_months[month_name],\"days\")\r\n",
        "else:\r\n",
        "    print(\" Not a valid month name.\")\r\n"
      ],
      "execution_count": 51,
      "outputs": [
        {
          "output_type": "stream",
          "text": [
            "Enter a month’s name:\n",
            "June\n",
            "30 days\n"
          ],
          "name": "stdout"
        }
      ]
    }
  ]
}