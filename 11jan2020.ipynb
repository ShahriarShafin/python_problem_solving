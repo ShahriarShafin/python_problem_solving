{
  "nbformat": 4,
  "nbformat_minor": 0,
  "metadata": {
    "colab": {
      "name": "11jan2020.ipynb",
      "provenance": [],
      "authorship_tag": "ABX9TyNsDzoRzkeXSDape+lKPgHm",
      "include_colab_link": true
    },
    "kernelspec": {
      "name": "python3",
      "display_name": "Python 3"
    }
  },
  "cells": [
    {
      "cell_type": "markdown",
      "metadata": {
        "id": "view-in-github",
        "colab_type": "text"
      },
      "source": [
        "<a href=\"https://colab.research.google.com/github/ShahriarShafin/python-files/blob/main/11jan2020.ipynb\" target=\"_parent\"><img src=\"https://colab.research.google.com/assets/colab-badge.svg\" alt=\"Open In Colab\"/></a>"
      ]
    },
    {
      "cell_type": "code",
      "metadata": {
        "colab": {
          "base_uri": "https://localhost:8080/"
        },
        "id": "sVQP81xIAD6T",
        "outputId": "db86138d-a525-4ae5-c31d-26c8fdfaeed2"
      },
      "source": [
        "#complex number\r\n",
        "z1= 9+3j\r\n",
        "z2= 10+12j\r\n",
        "z=z1+z2\r\n",
        "print(z)"
      ],
      "execution_count": 5,
      "outputs": [
        {
          "output_type": "stream",
          "text": [
            "(19+15j)\n"
          ],
          "name": "stdout"
        }
      ]
    },
    {
      "cell_type": "code",
      "metadata": {
        "colab": {
          "base_uri": "https://localhost:8080/"
        },
        "id": "6RlhmMFfBEsb",
        "outputId": "de7b7011-83a6-4bc0-c345-d036882272f7"
      },
      "source": [
        "a=\"shafin\"\r\n",
        "print(a[2:3]) \r\n",
        "print(a[2:])"
      ],
      "execution_count": 12,
      "outputs": [
        {
          "output_type": "stream",
          "text": [
            "a\n",
            "afin\n"
          ],
          "name": "stdout"
        }
      ]
    },
    {
      "cell_type": "code",
      "metadata": {
        "colab": {
          "base_uri": "https://localhost:8080/"
        },
        "id": "wMZGGl6ZEnwA",
        "outputId": "74ae6a96-5ee3-41f5-f57a-b5447d437c8d"
      },
      "source": [
        "#list\r\n",
        "list = [\"hi\",5,8,10,20,\"s\"]\r\n",
        "print(list)\r\n",
        "print(list[:3])\r\n"
      ],
      "execution_count": 23,
      "outputs": [
        {
          "output_type": "stream",
          "text": [
            "['hi', 5, 8, 10, 20, 's']\n",
            "['hi', 5, 8]\n"
          ],
          "name": "stdout"
        }
      ]
    }
  ]
}