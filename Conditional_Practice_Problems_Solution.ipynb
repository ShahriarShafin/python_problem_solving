{
  "nbformat": 4,
  "nbformat_minor": 0,
  "metadata": {
    "colab": {
      "name": "Conditional_Practice_Problems_Solution.ipynb",
      "provenance": [],
      "collapsed_sections": [],
      "authorship_tag": "ABX9TyMLalEfQWotV1lYX/LaZ9dP",
      "include_colab_link": true
    },
    "kernelspec": {
      "name": "python3",
      "display_name": "Python 3"
    }
  },
  "cells": [
    {
      "cell_type": "markdown",
      "metadata": {
        "id": "view-in-github",
        "colab_type": "text"
      },
      "source": [
        "<a href=\"https://colab.research.google.com/github/ShahriarShafin/python_problem_solving/blob/1.0.sa/Conditional_Practice_Problems_Solution.ipynb\" target=\"_parent\"><img src=\"https://colab.research.google.com/assets/colab-badge.svg\" alt=\"Open In Colab\"/></a>"
      ]
    },
    {
      "cell_type": "markdown",
      "metadata": {
        "id": "rzpqiOoDK9og"
      },
      "source": [
        "1. Write a Python program to accept two integers and check whether they are equal or not."
      ]
    },
    {
      "cell_type": "code",
      "metadata": {
        "id": "CcKKRr29LKsc"
      },
      "source": [
        "Number1 = int(input())\r\n",
        "Number2 = int(input())\r\n",
        "if Number1 == Number2:\r\n",
        "    print(\"Number1 and Number2 are equal\")\r\n",
        "else:\r\n",
        "    print(\"Number1 and Number2 are not equal\")\r\n",
        "\r\n"
      ],
      "execution_count": null,
      "outputs": []
    },
    {
      "cell_type": "markdown",
      "metadata": {
        "id": "Pz4cVkTnMMhP"
      },
      "source": [
        "2. Write a Python program to check whether a given number is even or odd."
      ]
    },
    {
      "cell_type": "code",
      "metadata": {
        "id": "jQ22yLspMbE3"
      },
      "source": [
        "number = int(input())\r\n",
        "if number % 2 == 0:\r\n",
        "    print(str(number) + \" is an even integer\")\r\n",
        "else:\r\n",
        "    print(str(number) + \" is an odd integer\")\r\n",
        "\r\n"
      ],
      "execution_count": null,
      "outputs": []
    },
    {
      "cell_type": "markdown",
      "metadata": {
        "id": "o1kScaGsNdvH"
      },
      "source": [
        "3. Write a Python program to check whether a given number is positive or negative."
      ]
    },
    {
      "cell_type": "code",
      "metadata": {
        "id": "Y46CjHiRNl9O"
      },
      "source": [
        "number = int(input())\r\n",
        "if number > 0:\r\n",
        "    print(str(number) + \" is a positive number\")\r\n",
        "else:\r\n",
        "    print(str(number) + \" is a negative number-100\")"
      ],
      "execution_count": null,
      "outputs": []
    },
    {
      "cell_type": "markdown",
      "metadata": {
        "id": "3p2Fw_9PQMXD"
      },
      "source": [
        "4. Write a Python program to find whether a given year is a leap year or not."
      ]
    },
    {
      "cell_type": "code",
      "metadata": {
        "id": "35JcyU4LQTIb"
      },
      "source": [
        "year = int(input(\"Enter a year: \"))\r\n",
        "if (year % 4) == 0:\r\n",
        "   if (year % 100) == 0:\r\n",
        "       if (year % 400) == 0:\r\n",
        "           print(str(year) + \" is a leap year\")\r\n",
        "       else:\r\n",
        "           print(str(year) + \" is not a leap year\")\r\n",
        "   else:\r\n",
        "       print(str(year) + \" is not a leap year\")\r\n",
        "else:\r\n",
        "   print(str(year) + \" is not a leap year\")"
      ],
      "execution_count": null,
      "outputs": []
    },
    {
      "cell_type": "markdown",
      "metadata": {
        "id": "4Ylgqdo7Rd9s"
      },
      "source": [
        "5. Write a Python program to read the age of a candidate and determine whether it is\r\n",
        "eligible for casting his/her own vote."
      ]
    },
    {
      "cell_type": "code",
      "metadata": {
        "id": "QSW-s3O1RlaB"
      },
      "source": [
        "age = int(input(\"Enter Your Age: \"))\r\n",
        "print(\"Congratulation! You are eligible for casting your vote.\") if age >= 18 else print(\"Sorry! You are not eligible for casting your vote.\")"
      ],
      "execution_count": null,
      "outputs": []
    },
    {
      "cell_type": "markdown",
      "metadata": {
        "id": "wJN7UUy5SRqT"
      },
      "source": [
        "6. Write a Python program to read the value of an integer m and display the value of n is 1\r\n",
        "when m is larger than 0, 0 when m is 0 and -1 when m is less than 0."
      ]
    },
    {
      "cell_type": "code",
      "metadata": {
        "id": "4g4oZVG3Sek3"
      },
      "source": [
        "number = int(input(\"Enter a number: \"))\r\n",
        "print('1') if number > 0 else print('0') if number == 0 else print('-1')"
      ],
      "execution_count": null,
      "outputs": []
    },
    {
      "cell_type": "markdown",
      "metadata": {
        "id": "bRTbdfcdUBw9"
      },
      "source": [
        "7. Write a Python program to accept the age of a person in years and categorize the person<br>\r\n",
        "according to the following:<br>\r\n",
        "0 – 10: child<br>\r\n",
        "11-20: teenage<br>\r\n",
        "21-50: adult<br>\r\n",
        "51 and above: old"
      ]
    },
    {
      "cell_type": "code",
      "metadata": {
        "id": "-TrsArvfUkGb"
      },
      "source": [
        "age  = int(input(\"Enter your age: \"))\r\n",
        "if age >= 0 and age <= 10:\r\n",
        "    print(\"Child\")\r\n",
        "elif age >= 11 and age <= 20:\r\n",
        "    print(\"Teenage\")\r\n",
        "elif age >= 21 and age <= 50:\r\n",
        "    print(\"Adult\")\r\n",
        "else:\r\n",
        "    print(\"Old\")"
      ],
      "execution_count": null,
      "outputs": []
    },
    {
      "cell_type": "markdown",
      "metadata": {
        "id": "9xYtHcEeX2e8"
      },
      "source": [
        "8. Write a Python program to find the largest of three numbers."
      ]
    },
    {
      "cell_type": "code",
      "metadata": {
        "id": "k1mQy-3YYWBB"
      },
      "source": [
        "text  = input(\"Enter three numbers: \")\r\n",
        "number = text.split(\" \")\r\n",
        "number = list(map(int, number))\r\n",
        "#print(type(number[0]))\r\n",
        "if number[0] > number[1] and number[0] > number[2] :\r\n",
        "    print(number[0])\r\n",
        "elif number[1] > number[0] and number[1] > number[2] :\r\n",
        "    print(number[1])\r\n",
        "else:\r\n",
        "    print(number[2])"
      ],
      "execution_count": null,
      "outputs": []
    },
    {
      "cell_type": "code",
      "metadata": {
        "id": "8USKZgaja8lh"
      },
      "source": [
        "text  = input(\"Enter three numbers: \")\r\n",
        "number = text.split(\" \")\r\n",
        "for i in number:\r\n",
        "    print(i)\r\n",
        "    print(type(i))\r\n",
        "\r\n",
        "number = list(map(int, number))\r\n",
        "for i in number:\r\n",
        "    print(i)\r\n",
        "    print(type(i))\r\n"
      ],
      "execution_count": null,
      "outputs": []
    },
    {
      "cell_type": "markdown",
      "metadata": {
        "id": "Z_CDG9OmcqcN"
      },
      "source": [
        "9. Write a Python program to accept a coordinate point in a XY coordinate system and\r\n",
        "determine in which quadrant the coordinate point lies.<br>\r\n",
        "Test Data: 7 9<br>\r\n",
        "Expected Output:<br>\r\n",
        "The coordinate point (7,9) lies in the First quadrant."
      ]
    },
    {
      "cell_type": "code",
      "metadata": {
        "colab": {
          "base_uri": "https://localhost:8080/"
        },
        "id": "Iw9Wdy24czxm",
        "outputId": "7ce0067b-7501-45c5-e22b-780a1663985e"
      },
      "source": [
        "coordinate = input(\"Enter coordinate of XY :\")\r\n",
        "x, y = coordinate.split(' ', 1)\r\n",
        "x = int(x)\r\n",
        "y = int(y)\r\n",
        "#print(x,y,type(x),type(y))\r\n",
        "if x > 0 and y > 0:\r\n",
        "    print(\"The coordinate point ({},{}) lies in the First quadrant.\".format(x,y))\r\n",
        "elif x < 0 and y > 0:\r\n",
        "    print(\"The coordinate point ({},{}) lies in the Second quadrant.\".format(x,y))\r\n",
        "elif x < 0 and y < 0:\r\n",
        "    print(\"The coordinate point ({},{}) lies in the Third quadrant.\".format(x,y))\r\n",
        "else:\r\n",
        "    print(\"The coordinate point ({},{}) lies in the Fourth quadrant.\".format(x,y))    "
      ],
      "execution_count": null,
      "outputs": [
        {
          "output_type": "stream",
          "text": [
            "Enter coordinate of XY :-3 -4\n",
            "The coordinate point (-3,-4) lies in the Third quadrant.\n"
          ],
          "name": "stdout"
        }
      ]
    },
    {
      "cell_type": "markdown",
      "metadata": {
        "id": "g7YFyO-ugWfT"
      },
      "source": [
        "10. Write a Python program to find the eligibility of admission for a professional course\r\n",
        "based on the following criteria:<br>\r\n",
        "Eligibility Criteria :<br>\r\n",
        "Marks in Maths >=65<br>\r\n",
        "Marks in Phy >=55<br>\r\n",
        "Marks in Chem>=50<br>\r\n",
        "Total in all three subject >=190 or Total in Maths and Physics >=140"
      ]
    },
    {
      "cell_type": "code",
      "metadata": {
        "id": "LHOwMlEJjjby"
      },
      "source": [
        "maths = int(input(\"Enter your Maths marks: \"))\r\n",
        "phy = int(input(\"Enter your Physics marks: \"))\r\n",
        "chem = int(input(\"Enter your Chemistry marks: \"))\r\n",
        "if maths >= 65 and phy >= 55 and chem >= 50 :\r\n",
        "    if (maths + phy + chem) >= 190 or (maths + phy) >= 140:\r\n",
        "        print(\"The candidate is eligible for admission.\")\r\n",
        "    else:\r\n",
        "        print(\"The candidate is not eligible for admission.\")\r\n",
        "else:\r\n",
        "    print(\"The candidate is not eligible for admission.\")"
      ],
      "execution_count": null,
      "outputs": []
    },
    {
      "cell_type": "markdown",
      "metadata": {
        "id": "q1t7Qc9ClinL"
      },
      "source": [
        "11. Write a program in Python to read any Month Number in integer and display the\r\n",
        "number of days for this month."
      ]
    },
    {
      "cell_type": "code",
      "metadata": {
        "colab": {
          "base_uri": "https://localhost:8080/"
        },
        "id": "iruvWetclpEj",
        "outputId": "c5757df4-01ed-4e70-ee7b-53a3ccdec3ab"
      },
      "source": [
        "month = input(\"Enter number of Month: \")\r\n",
        "calender = { \"1\": \"31\", \"2\": \"28\", \"3\":\"31\", \"4\":\"30\", \"5\":\"31\", \"6\":\"30\", \"7\":\"31\", \"8\":\"31\", \"9\":\"30\", \"10\":\"31\", \"11\":\"30\", \"12\":\"31\"}\r\n",
        "print(calender[month])"
      ],
      "execution_count": null,
      "outputs": [
        {
          "output_type": "stream",
          "text": [
            "Enter number of Month: 4\n",
            "30\n"
          ],
          "name": "stdout"
        }
      ]
    },
    {
      "cell_type": "markdown",
      "metadata": {
        "id": "PlSyUItio5Nv"
      },
      "source": [
        "12. Write a program in Python to read any Month Number in integer and display Month\r\n",
        "name in the word."
      ]
    },
    {
      "cell_type": "code",
      "metadata": {
        "colab": {
          "base_uri": "https://localhost:8080/"
        },
        "id": "kZbLhOZjo8hW",
        "outputId": "d16d8e62-348d-4866-b05e-f2230fffe8e9"
      },
      "source": [
        "month = input(\"Enter number of Month: \")\r\n",
        "calender = { \"1\": \"January\", \"2\": \"February\", \"3\":\"March\", \"4\":\"April\", \"5\":\"May\", \"6\":\"June\", \"7\":\"July\", \"8\":\"August\", \"9\":\"September\", \"10\":\"October\", \"11\":\"November\", \"12\":\"December\"}\r\n",
        "print(calender[month])"
      ],
      "execution_count": null,
      "outputs": [
        {
          "output_type": "stream",
          "text": [
            "Enter number of Month: 11\n",
            "November\n"
          ],
          "name": "stdout"
        }
      ]
    },
    {
      "cell_type": "markdown",
      "metadata": {
        "id": "igCEl7_AzPZ-"
      },
      "source": [
        "13. Write a Python program to read temperature in centigrade and display a suitable\r\n",
        "message according to temperature state below :<br>\r\n",
        "Temp < 0 then Freezing weather<br>\r\n",
        "Temp 0-10 then Very Cold weather<br>\r\n",
        "Temp 10-20 then Cold weather<br>\r\n",
        "Temp 20-30 then Normal in Temp<br>\r\n",
        "Temp 30-40 then Its Hot<br>\r\n",
        "Temp >=40 then Its Very Hot"
      ]
    },
    {
      "cell_type": "code",
      "metadata": {
        "colab": {
          "base_uri": "https://localhost:8080/"
        },
        "id": "t_mgy7wgzdKE",
        "outputId": "07d59244-58fc-4bf7-ed7f-f79bcedcbb9d"
      },
      "source": [
        "temp = int(input(\"Enter temperature: \"))\r\n",
        "if temp < 0:\r\n",
        "    print(\"Freezing weather\")\r\n",
        "elif temp >= 0 and temp < 10:\r\n",
        "    print(\"Very Cold weather\")\r\n",
        "elif temp >= 10 and temp < 20:\r\n",
        "    print(\"Cold weather\")\r\n",
        "elif temp >= 20 and temp < 30:\r\n",
        "    print(\"Normal in Temp\")\r\n",
        "elif temp >= 20 and temp < 30:\r\n",
        "    print(\"Normal in Temp\")\r\n",
        "elif temp >= 30 and temp < 40:\r\n",
        "    print(\"Its Hot\")\r\n",
        "else:\r\n",
        "    print(\"Its Very Hot\")"
      ],
      "execution_count": null,
      "outputs": [
        {
          "output_type": "stream",
          "text": [
            "Enter temperature: 30\n",
            "Its Hot\n"
          ],
          "name": "stdout"
        }
      ]
    },
    {
      "cell_type": "markdown",
      "metadata": {
        "id": "wfOLk0kgHTy1"
      },
      "source": [
        "14. Write a Python program to check whether a triangle is Equilateral, Isosceles or Scalene."
      ]
    },
    {
      "cell_type": "code",
      "metadata": {
        "colab": {
          "base_uri": "https://localhost:8080/"
        },
        "id": "N1wD73AqHaK-",
        "outputId": "6032633e-9d37-455d-dd64-67da2369b43d"
      },
      "source": [
        "triangle = input(\"Enter the three sides of an Angle: \")\r\n",
        "x, y, z = triangle.split(' ')\r\n",
        "x = int(x)\r\n",
        "y = int(y)\r\n",
        "z = int(z)\r\n",
        "if x==y and y==z:\r\n",
        "    print(\"This is an Equilateral triangle.\")\r\n",
        "elif x==y or y==z or x==z:\r\n",
        "    print(\"This is an Isosceles triangle\")\r\n",
        "else:\r\n",
        "    print(\"This is an Scalene triangle\")"
      ],
      "execution_count": null,
      "outputs": [
        {
          "output_type": "stream",
          "text": [
            "Enter the three sides of an Angle: 50 50 50\n",
            "This is an Equilateral triangle.\n"
          ],
          "name": "stdout"
        }
      ]
    },
    {
      "cell_type": "markdown",
      "metadata": {
        "id": "al2jDMBIJmd5"
      },
      "source": [
        "15. Write a Python program to check whether a triangle can be formed by the given value\r\n",
        "for the angles."
      ]
    },
    {
      "cell_type": "code",
      "metadata": {
        "id": "-c0VbwOpJoB_"
      },
      "source": [
        "triangle = input(\"Enter the three angles of an triangle: \")\r\n",
        "x, y, z = triangle.split(' ')\r\n",
        "x = int(x)\r\n",
        "y = int(y)\r\n",
        "z = int(z)\r\n",
        "if (x+y+z) == 180:\r\n",
        "    print(\"The triangle is valid.\")\r\n",
        "else:\r\n",
        "    print(\"The triangle is not valid.\")"
      ],
      "execution_count": null,
      "outputs": []
    }
  ]
}